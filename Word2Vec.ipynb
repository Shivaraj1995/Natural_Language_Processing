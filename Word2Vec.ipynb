{
 "cells": [
  {
   "cell_type": "code",
   "execution_count": 2,
   "metadata": {},
   "outputs": [],
   "source": [
    "import numpy as np \n",
    "import matplotlib.pyplot as plt\n",
    "\n",
    "#t-Distributed Stochastic Neighbor Embedding (t-SNE) is an unsupervised, \n",
    "#non-linear technique primarily used for data exploration and visualizing high-dimensional data.\n",
    "from sklearn.manifold import TSNE"
   ]
  },
  {
   "cell_type": "markdown",
   "metadata": {},
   "source": [
    "#### What is the difference between Word2Vec and Glove?\n",
    "\n",
    "Word2Vec takes texts as training data for a neural network. The resulting embedding captures whether words appear \n",
    "in similar contexts. GloVe focuses on words co-occurrences over the whole corpus. Its embeddings relate to the probabilities\n",
    "that two words appear together."
   ]
  },
  {
   "cell_type": "markdown",
   "metadata": {},
   "source": [
    "### Download word vectors"
   ]
  },
  {
   "cell_type": "code",
   "execution_count": 3,
   "metadata": {},
   "outputs": [
    {
     "name": "stdout",
     "output_type": "stream",
     "text": [
      "[==================================================] 100.0% 1662.8/1662.8MB downloaded\n"
     ]
    }
   ],
   "source": [
    "#https://code.google.com/archive/p/word2vec/   \n",
    "import gensim.downloader as api\n",
    "word2vec_model=api.load('word2vec-google-news-300')"
   ]
  },
  {
   "cell_type": "code",
   "execution_count": 6,
   "metadata": {},
   "outputs": [
    {
     "data": {
      "text/plain": [
       "array([-0.27929688,  0.12988281, -0.03613281, -0.25585938,  0.12695312,\n",
       "        0.07763672,  0.265625  ,  0.23828125, -0.14550781,  0.04223633,\n",
       "       -0.21191406,  0.21777344,  0.17480469,  0.04858398, -0.24121094,\n",
       "       -0.05810547,  0.046875  , -0.17089844, -0.17382812, -0.01745605,\n",
       "       -0.07666016, -0.00613403,  0.06738281, -0.04736328,  0.2578125 ,\n",
       "        0.32226562,  0.12792969,  0.3671875 , -0.0390625 , -0.06396484,\n",
       "        0.29296875,  0.04150391, -0.04272461, -0.13671875,  0.10498047,\n",
       "       -0.14160156,  0.01098633,  0.421875  , -0.12304688,  0.23730469,\n",
       "        0.18652344, -0.4921875 , -0.17285156, -0.01446533,  0.34765625,\n",
       "        0.06640625, -0.09082031, -0.29296875,  0.01141357,  0.20117188,\n",
       "        0.31835938,  0.00805664, -0.0546875 ,  0.13085938, -0.20019531,\n",
       "        0.13476562, -0.07470703, -0.12304688,  0.05712891, -0.2578125 ,\n",
       "        0.16601562,  0.17871094,  0.13476562,  0.15917969,  0.05444336,\n",
       "        0.05615234, -0.03833008,  0.16210938, -0.19140625,  0.30078125,\n",
       "       -0.17675781, -0.29882812,  0.0020752 , -0.05957031, -0.06738281,\n",
       "        0.1953125 , -0.01794434, -0.12109375,  0.03369141, -0.10058594,\n",
       "        0.11083984, -0.10253906,  0.15917969, -0.13671875, -0.21777344,\n",
       "        0.02062988,  0.25390625,  0.07177734,  0.08837891, -0.125     ,\n",
       "        0.01239014, -0.27929688, -0.23242188, -0.06835938,  0.10400391,\n",
       "        0.25      ,  0.203125  ,  0.08447266,  0.13574219,  0.12304688,\n",
       "       -0.11962891, -0.16503906,  0.14550781,  0.07226562, -0.10351562,\n",
       "        0.00836182,  0.12207031, -0.09814453, -0.15917969, -0.18066406,\n",
       "        0.234375  , -0.00497437,  0.15039062, -0.28125   ,  0.25585938,\n",
       "        0.16503906,  0.28320312, -0.0612793 ,  0.11962891, -0.00228882,\n",
       "        0.0534668 , -0.33007812,  0.0402832 , -0.30859375, -0.13574219,\n",
       "       -0.26367188, -0.15234375,  0.21875   ,  0.36914062, -0.12109375,\n",
       "        0.0456543 ,  0.15820312, -0.359375  , -0.3203125 ,  0.33203125,\n",
       "       -0.09521484,  0.07617188,  0.19433594, -0.05517578,  0.03039551,\n",
       "        0.16308594, -0.11474609, -0.14160156,  0.09033203,  0.23046875,\n",
       "        0.20703125,  0.05249023, -0.06494141,  0.05224609, -0.0324707 ,\n",
       "        0.20214844, -0.05493164,  0.0222168 , -0.21679688,  0.00817871,\n",
       "       -0.30078125,  0.04052734, -0.13378906,  0.12792969, -0.21875   ,\n",
       "       -0.1328125 ,  0.14550781,  0.32617188,  0.12792969, -0.11474609,\n",
       "       -0.1796875 , -0.04638672, -0.0456543 , -0.2578125 ,  0.04174805,\n",
       "       -0.03515625, -0.25585938, -0.25976562, -0.11035156, -0.10009766,\n",
       "        0.30078125,  0.10546875, -0.07568359, -0.04858398, -0.26367188,\n",
       "        0.00415039, -0.11572266,  0.40820312, -0.21289062, -0.421875  ,\n",
       "       -0.17578125, -0.11132812,  0.39257812,  0.23046875, -0.14648438,\n",
       "        0.06738281,  0.16503906,  0.12451172, -0.04956055,  0.01367188,\n",
       "        0.19335938,  0.10546875,  0.0246582 , -0.15234375, -0.01165771,\n",
       "        0.08984375,  0.00173187,  0.26367188,  0.03515625, -0.22753906,\n",
       "        0.07714844,  0.15429688,  0.07617188, -0.32226562,  0.2734375 ,\n",
       "       -0.01464844, -0.07763672,  0.09423828,  0.29296875,  0.1953125 ,\n",
       "       -0.25976562,  0.19921875,  0.5078125 , -0.45898438, -0.40820312,\n",
       "        0.20800781,  0.22363281,  0.05395508, -0.05078125, -0.21289062,\n",
       "       -0.01470947,  0.12158203,  0.19628906,  0.23535156, -0.03881836,\n",
       "        0.02441406, -0.21777344, -0.04663086, -0.17871094, -0.15234375,\n",
       "        0.0300293 ,  0.09814453, -0.00674438, -0.01916504, -0.29296875,\n",
       "       -0.1328125 , -0.06591797, -0.01623535, -0.1953125 , -0.08886719,\n",
       "       -0.32617188, -0.15039062,  0.20507812,  0.19238281,  0.0859375 ,\n",
       "       -0.13769531,  0.10351562,  0.16210938,  0.18164062, -0.00106812,\n",
       "       -0.09326172,  0.23339844, -0.11523438, -0.17480469, -0.12451172,\n",
       "       -0.16308594, -0.20800781,  0.09179688,  0.11083984,  0.25976562,\n",
       "       -0.12695312, -0.21679688,  0.00054932,  0.265625  , -0.0546875 ,\n",
       "       -0.18945312, -0.19824219,  0.07910156,  0.08496094,  0.1953125 ,\n",
       "        0.20898438, -0.12988281, -0.15234375, -0.28710938,  0.13378906,\n",
       "        0.18261719,  0.12597656, -0.04443359, -0.09863281,  0.07714844,\n",
       "       -0.36132812,  0.01733398,  0.26171875, -0.32421875,  0.42773438,\n",
       "        0.02099609, -0.11962891,  0.12695312,  0.30664062,  0.10107422,\n",
       "        0.06445312,  0.06079102, -0.11425781,  0.10205078, -0.15722656],\n",
       "      dtype=float32)"
      ]
     },
     "execution_count": 6,
     "metadata": {},
     "output_type": "execute_result"
    }
   ],
   "source": [
    "#Check Vector representation of any word\n",
    "\n",
    "Sun_matrix=word2vec_model['Sun']\n",
    "Sun_matrix"
   ]
  },
  {
   "cell_type": "code",
   "execution_count": 7,
   "metadata": {},
   "outputs": [
    {
     "data": {
      "text/plain": [
       "(300,)"
      ]
     },
     "execution_count": 7,
     "metadata": {},
     "output_type": "execute_result"
    }
   ],
   "source": [
    "Sun_matrix.shape"
   ]
  },
  {
   "cell_type": "code",
   "execution_count": 8,
   "metadata": {},
   "outputs": [
    {
     "data": {
      "text/plain": [
       "array([ 0.125     , -0.12402344, -0.13769531,  0.13085938, -0.39453125,\n",
       "       -0.07666016,  0.15234375,  0.12792969,  0.16894531, -0.13964844,\n",
       "       -0.02636719,  0.09375   ,  0.12890625, -0.10009766, -0.171875  ,\n",
       "        0.07421875,  0.35742188, -0.09228516, -0.03076172, -0.07958984,\n",
       "       -0.10693359,  0.07910156, -0.05615234,  0.06884766, -0.22070312,\n",
       "       -0.15820312,  0.16503906,  0.06445312,  0.17285156,  0.13867188,\n",
       "       -0.265625  ,  0.06542969, -0.17382812, -0.16210938, -0.0067749 ,\n",
       "       -0.0625    ,  0.04833984,  0.14453125,  0.27929688,  0.49023438,\n",
       "        0.11083984,  0.05810547,  0.10742188,  0.20996094, -0.06982422,\n",
       "        0.08398438, -0.28515625, -0.00335693, -0.09375   , -0.12792969,\n",
       "        0.04443359,  0.05151367, -0.29296875, -0.07470703, -0.11572266,\n",
       "        0.23925781, -0.25195312,  0.0168457 , -0.09667969, -0.09228516,\n",
       "       -0.02722168, -0.13867188, -0.00830078,  0.19628906, -0.5859375 ,\n",
       "       -0.15332031, -0.26367188,  0.01672363, -0.22558594,  0.15527344,\n",
       "       -0.45703125,  0.20019531, -0.06494141, -0.00872803, -0.0625    ,\n",
       "        0.02246094,  0.20507812, -0.21386719, -0.07177734,  0.03320312,\n",
       "        0.12988281,  0.10742188, -0.03344727,  0.16113281,  0.16503906,\n",
       "       -0.24804688,  0.265625  ,  0.234375  , -0.07080078,  0.00156403,\n",
       "        0.05688477, -0.24414062, -0.23535156, -0.2578125 ,  0.12597656,\n",
       "       -0.13183594,  0.01190186, -0.16210938,  0.33398438,  0.23730469,\n",
       "       -0.08154297, -0.4609375 , -0.35351562,  0.0546875 ,  0.18652344,\n",
       "        0.21191406, -0.38476562,  0.11181641, -0.04907227, -0.09521484,\n",
       "       -0.08056641,  0.01586914,  0.23046875,  0.02038574,  0.24511719,\n",
       "        0.05664062, -0.10058594, -0.38085938, -0.1640625 ,  0.39257812,\n",
       "       -0.09619141,  0.09228516, -0.5546875 , -0.19042969, -0.1328125 ,\n",
       "        0.17773438,  0.21582031,  0.15332031, -0.26757812, -0.15039062,\n",
       "       -0.296875  , -0.02697754, -0.18164062,  0.03930664, -0.16699219,\n",
       "       -0.16699219,  0.16210938, -0.12695312,  0.07617188, -0.11914062,\n",
       "        0.19140625, -0.24707031, -0.21484375, -0.15234375,  0.328125  ,\n",
       "       -0.10253906,  0.2578125 , -0.10498047, -0.3515625 , -0.203125  ,\n",
       "       -0.06152344, -0.20019531, -0.23730469,  0.05834961, -0.03442383,\n",
       "       -0.12890625, -0.12109375, -0.25976562, -0.19726562,  0.28320312,\n",
       "       -0.35742188,  0.11035156,  0.20507812, -0.0010376 ,  0.26953125,\n",
       "       -0.46875   ,  0.23144531, -0.07519531, -0.2265625 ,  0.07080078,\n",
       "       -0.02893066, -0.00141907, -0.00588989, -0.05078125,  0.15136719,\n",
       "       -0.17382812,  0.13769531, -0.04541016, -0.10253906, -0.30664062,\n",
       "       -0.05029297,  0.20214844, -0.09472656, -0.33398438,  0.36132812,\n",
       "       -0.05126953,  0.06689453,  0.4375    , -0.05371094, -0.37890625,\n",
       "       -0.04223633,  0.19238281,  0.10742188,  0.04882812, -0.13769531,\n",
       "        0.22265625, -0.35546875, -0.53515625,  0.04907227,  0.1015625 ,\n",
       "       -0.10107422, -0.06640625,  0.22265625,  0.08251953, -0.18066406,\n",
       "        0.23144531, -0.140625  , -0.14941406, -0.1640625 ,  0.00473022,\n",
       "       -0.18359375,  0.10888672, -0.14355469,  0.25      , -0.0859375 ,\n",
       "        0.13476562,  0.08984375,  0.32421875, -0.31445312, -0.12890625,\n",
       "       -0.1015625 ,  0.10253906, -0.02404785,  0.07763672, -0.4296875 ,\n",
       "       -0.01470947, -0.06738281, -0.01062012,  0.2265625 ,  0.07763672,\n",
       "       -0.27929688, -0.48828125, -0.25585938, -0.05444336,  0.3203125 ,\n",
       "       -0.07617188,  0.15820312, -0.00512695, -0.09619141,  0.08789062,\n",
       "        0.08251953, -0.10888672, -0.01806641, -0.19628906, -0.00094986,\n",
       "       -0.24414062, -0.09521484,  0.06396484, -0.15917969, -0.03149414,\n",
       "       -0.55859375,  0.16699219, -0.25390625,  0.20605469, -0.07128906,\n",
       "       -0.16210938, -0.02099609, -0.13867188, -0.26171875, -0.01098633,\n",
       "        0.28320312,  0.140625  ,  0.0402832 ,  0.21582031, -0.1171875 ,\n",
       "        0.15234375, -0.28125   , -0.3125    ,  0.15917969, -0.01037598,\n",
       "       -0.0177002 ,  0.31640625,  0.09619141, -0.08300781, -0.03637695,\n",
       "       -0.015625  ,  0.1328125 , -0.03637695,  0.22558594,  0.04516602,\n",
       "       -0.375     ,  0.1875    ,  0.0534668 ,  0.30273438,  0.01794434,\n",
       "       -0.15625   ,  0.11816406,  0.10302734,  0.06933594,  0.31054688,\n",
       "        0.3671875 ,  0.03149414, -0.11230469,  0.05786133, -0.05712891,\n",
       "       -0.140625  ,  0.14453125, -0.05688477, -0.03466797,  0.09082031],\n",
       "      dtype=float32)"
      ]
     },
     "execution_count": 8,
     "metadata": {},
     "output_type": "execute_result"
    }
   ],
   "source": [
    "word2vec_model['Google']"
   ]
  },
  {
   "cell_type": "code",
   "execution_count": 9,
   "metadata": {},
   "outputs": [
    {
     "data": {
      "text/plain": [
       "[('girl', 0.8543272018432617),\n",
       " ('teenager', 0.7606689929962158),\n",
       " ('toddler', 0.7043969035148621),\n",
       " ('teenage_girl', 0.685148298740387),\n",
       " ('man', 0.6824870705604553),\n",
       " ('teen_ager', 0.6499968767166138),\n",
       " ('son', 0.6337764263153076),\n",
       " ('kid', 0.63228440284729),\n",
       " ('youngster', 0.618381679058075),\n",
       " ('stepfather', 0.5989423394203186)]"
      ]
     },
     "execution_count": 9,
     "metadata": {},
     "output_type": "execute_result"
    }
   ],
   "source": [
    "#print similar words\n",
    "word2vec_model.most_similar('boy')"
   ]
  },
  {
   "cell_type": "code",
   "execution_count": 10,
   "metadata": {},
   "outputs": [
    {
     "data": {
      "text/plain": [
       "[('Robert_Tychkowski_Edmonton', 0.6324338316917419),\n",
       " ('Communities_SUI', 0.6245030760765076),\n",
       " ('PRANAY_GUPTE_Special', 0.6178733706474304),\n",
       " ('No_Child_Nilaja', 0.6127474904060364),\n",
       " ('TERRY_DAVIDSON_Toronto', 0.6056138277053833),\n",
       " ('CHRIS_DOUCETTE_Toronto', 0.602268397808075),\n",
       " ('Hours_Tues.', 0.6016443967819214),\n",
       " ('PAUL_TURENNE_Winnipeg', 0.5997726917266846),\n",
       " ('TJ_MADIGAN_Calgary', 0.5984655618667603),\n",
       " ('hijacked_airliner_belongs', 0.5983020067214966)]"
      ]
     },
     "execution_count": 10,
     "metadata": {},
     "output_type": "execute_result"
    }
   ],
   "source": [
    "word2vec_model.most_similar('Sun')"
   ]
  },
  {
   "cell_type": "markdown",
   "metadata": {},
   "source": [
    "### Analogy"
   ]
  },
  {
   "cell_type": "code",
   "execution_count": 13,
   "metadata": {},
   "outputs": [
    {
     "data": {
      "text/plain": [
       "[('king', 0.7298423051834106), ('queens', 0.6158192753791809)]"
      ]
     },
     "execution_count": 13,
     "metadata": {},
     "output_type": "execute_result"
    }
   ],
   "source": [
    "#queen - girl + boy = king\n",
    "word2vec_model.most_similar(positive=['queen','boy'],negative=['girl'],topn=2)"
   ]
  },
  {
   "cell_type": "markdown",
   "metadata": {},
   "source": [
    "### Visualization "
   ]
  },
  {
   "cell_type": "code",
   "execution_count": 26,
   "metadata": {},
   "outputs": [],
   "source": [
    "vocab = [\"boy\", \"girl\", \"man\", \"woman\", \"king\", \"queen\", \"banana\", \"apple\", \"mango\", \"fruit\", \"coconut\", \"orange\",\"rabbit\",\"elephant\",\"lion\",\"tiger\"]\n",
    "\n",
    "\n",
    "\n",
    "labels=[]\n",
    "wordvecs=[]\n",
    "for word in vocab:\n",
    "    wordvecs.append(word2vec_model[word])\n",
    "    labels.append(word)\n",
    "        \n",
    "\n",
    "tsne_model=TSNE(perplexity=3,n_components=2,init='pca',random_state=2)\n",
    "coordinates=tsne_model.fit_transform(wordvecs)"
   ]
  },
  {
   "cell_type": "code",
   "execution_count": 27,
   "metadata": {},
   "outputs": [
    {
     "data": {
      "text/plain": [
       "array([[-129.44728 ,   68.18321 ],\n",
       "       [-111.00228 ,   79.12165 ],\n",
       "       [-111.25126 ,   39.448368],\n",
       "       [ -94.1613  ,   53.41951 ],\n",
       "       [-212.78085 ,   62.476437],\n",
       "       [-208.48059 ,   80.84656 ],\n",
       "       [ 301.12247 ,   32.20272 ],\n",
       "       [ 308.77945 ,   79.59734 ],\n",
       "       [ 277.70566 ,   47.02124 ],\n",
       "       [ 287.1559  ,   72.49564 ],\n",
       "       [ 272.04376 ,   22.669256],\n",
       "       [ 337.28668 ,   55.56212 ],\n",
       "       [-100.57981 ,  -82.05906 ],\n",
       "       [-106.11558 , -122.372345],\n",
       "       [ -76.9665  ,  -93.910706],\n",
       "       [-114.37377 , -103.5477  ]], dtype=float32)"
      ]
     },
     "execution_count": 27,
     "metadata": {},
     "output_type": "execute_result"
    }
   ],
   "source": [
    "coordinates"
   ]
  },
  {
   "cell_type": "code",
   "execution_count": 40,
   "metadata": {},
   "outputs": [
    {
     "data": {
      "image/png": "[encoded data removed]",
      "text/plain": [
       "<Figure size 576x576 with 1 Axes>"
      ]
     },
     "metadata": {
      "needs_background": "light"
     },
     "output_type": "display_data"
    }
   ],
   "source": [
    "vocab = [\"boy\", \"girl\", \"man\", \"woman\", \"king\", \"queen\", \"banana\", \"apple\", \"mango\", \"fruit\", \"coconut\", \"orange\",\"rabbit\",\"elephant\",\"lion\",\"tiger\"]\n",
    "\n",
    "\n",
    "def tsne_plot(model):\n",
    "    labels=[]\n",
    "    wordvecs=[]\n",
    "    for word in vocab:\n",
    "        wordvecs.append(model[word])\n",
    "        labels.append(word)\n",
    "        \n",
    "    tsne_model=TSNE(perplexity=5,n_components=2,init='pca',random_state=2)\n",
    "    #The perplexity is related to the number of nearest neighbors that is used in other manifold learning algorithms.\n",
    "    coordinates=tsne_model.fit_transform(wordvecs)\n",
    "    \n",
    "    x=[]\n",
    "    y=[]\n",
    "    for value in coordinates:\n",
    "        x.append(value[0])\n",
    "        y.append(value[1])\n",
    "        \n",
    "    plt.figure(figsize=(8,8)) \n",
    "    for i in range(len(x)):\n",
    "        plt.scatter(x[i],y[i])\n",
    "        plt.annotate(labels[i],\n",
    "                     xy=(x[i], y[i]),\n",
    "                     xytext=(2, 2),\n",
    "                     textcoords='offset points',\n",
    "                     ha='right',\n",
    "                     va='bottom')\n",
    "    plt.show()\n",
    "\n",
    "        \n",
    "        \n",
    "tsne_plot(word2vec_model)"
   ]
  },
  {
   "cell_type": "code",
   "execution_count": 24,
   "metadata": {},
   "outputs": [],
   "source": []
  },
  {
   "cell_type": "code",
   "execution_count": null,
   "metadata": {},
   "outputs": [],
   "source": []
  }
 ],
 "metadata": {
  "kernelspec": {
   "display_name": "Python 3",
   "language": "python",
   "name": "python3"
  },
  "language_info": {
   "codemirror_mode": {
    "name": "ipython",
    "version": 3
   },
   "file_extension": ".py",
   "mimetype": "text/x-python",
   "name": "python",
   "nbconvert_exporter": "python",
   "pygments_lexer": "ipython3",
   "version": "3.8.5"
  }
 },
 "nbformat": 4,
 "nbformat_minor": 4
}
