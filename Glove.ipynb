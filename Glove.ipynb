{
 "cells": [
  {
   "cell_type": "code",
   "execution_count": 1,
   "metadata": {},
   "outputs": [],
   "source": [
    "import numpy as np\n",
    "from sklearn.manifold import TSNE\n",
    "import matplotlib.pyplot as plt"
   ]
  },
  {
   "cell_type": "code",
   "execution_count": 4,
   "metadata": {},
   "outputs": [
    {
     "name": "stdout",
     "output_type": "stream",
     "text": [
      "[==================================================] 100.0% 376.1/376.1MB downloaded\n"
     ]
    }
   ],
   "source": [
    "import gensim.downloader as api\n",
    "glove_model = api.load('glove-wiki-gigaword-300')"
   ]
  },
  {
   "cell_type": "code",
   "execution_count": 8,
   "metadata": {},
   "outputs": [
    {
     "data": {
      "text/plain": [
       "array([ 0.2918   , -0.30451  , -0.18643  , -0.12456  ,  0.59852  ,\n",
       "        0.543    ,  0.16806  ,  1.0792   , -0.055115 , -0.20401  ,\n",
       "       -0.10764  , -0.81728  , -0.20518  ,  0.52162  ,  0.37358  ,\n",
       "        0.075588 ,  0.44998  ,  0.19819  , -0.017366 , -0.43582  ,\n",
       "       -0.39421  ,  0.46885  ,  0.48778  ,  0.48085  ,  0.088282 ,\n",
       "       -0.21437  ,  0.10376  , -0.15115  ,  0.14854  ,  0.65517  ,\n",
       "        0.0078932, -0.85667  , -0.024476 ,  0.10032  , -0.68263  ,\n",
       "       -0.39281  ,  0.34664  ,  0.30954  , -0.68735  ,  0.347    ,\n",
       "       -0.078671 , -0.21691  , -0.43452  ,  0.30331  , -0.63428  ,\n",
       "       -0.53864  ,  0.2968   ,  0.028856 ,  0.37429  ,  0.12612  ,\n",
       "       -0.34203  , -0.50055  ,  0.10103  ,  0.21551  ,  0.28844  ,\n",
       "        0.36301  ,  0.64173  ,  0.61683  ,  0.035685 ,  0.062093 ,\n",
       "       -0.59562  ,  0.011796 ,  0.28576  ,  0.023435 ,  0.26298  ,\n",
       "        0.018569 , -0.31712  , -0.5706   ,  0.47154  ,  0.37222  ,\n",
       "       -0.0045898,  0.66711  , -0.082827 , -0.29561  , -0.12853  ,\n",
       "        0.030765 ,  0.96881  , -0.68716  ,  0.48061  ,  0.36829  ,\n",
       "       -0.18897  , -0.20625  ,  0.27453  , -0.39031  ,  0.33459  ,\n",
       "       -0.75571  , -0.78571  ,  0.29459  , -0.42137  , -0.12267  ,\n",
       "        0.31957  , -0.31974  ,  0.093507 ,  0.53365  , -0.52738  ,\n",
       "       -0.1164   ,  0.39485  ,  0.046959 , -0.41141  ,  0.2181   ,\n",
       "        0.41542  , -0.011437 ,  0.4828   , -0.60066  , -0.070839 ,\n",
       "       -0.1802   , -0.065851 ,  0.30837  ,  0.38013  ,  0.35451  ,\n",
       "        0.2987   ,  0.19086  , -0.39066  ,  0.093808 ,  0.31324  ,\n",
       "       -0.072191 , -0.41464  ,  0.072187 , -0.4942   , -0.23062  ,\n",
       "       -0.75664  , -0.18435  , -0.14979  , -0.46103  ,  0.094952 ,\n",
       "       -0.32249  , -0.24378  ,  0.54669  ,  0.023224 , -0.97776  ,\n",
       "        0.11374  , -0.28193  ,  0.02501  ,  0.35962  ,  0.028395 ,\n",
       "        0.26651  , -0.087579 ,  0.16623  ,  0.019811 ,  0.34265  ,\n",
       "        0.19318  ,  0.42292  ,  0.038453 ,  0.021604 , -0.055174 ,\n",
       "       -0.47037  ,  0.28176  ,  0.028578 , -0.16849  , -0.066871 ,\n",
       "        0.10789  ,  0.4434   , -0.1106   , -0.50291  ,  0.28416  ,\n",
       "        0.13703  ,  0.10203  ,  0.033938 , -0.38471  ,  0.20607  ,\n",
       "        0.87007  , -0.070646 ,  0.42266  ,  0.3492   , -0.19731  ,\n",
       "        0.41284  , -0.16412  , -0.0093516, -0.07349  , -0.18583  ,\n",
       "        0.35239  , -0.020726 , -0.086157 , -0.50965  ,  0.26578  ,\n",
       "       -0.54288  ,  0.12369  , -0.20834  ,  0.1998   , -0.14241  ,\n",
       "       -0.34947  , -0.012296 ,  0.066445 ,  0.078111 ,  0.59647  ,\n",
       "       -0.17405  ,  0.10879  ,  0.21399  ,  0.10741  , -0.35675  ,\n",
       "        0.20768  ,  0.035145 , -0.033915 , -0.26728  , -0.12101  ,\n",
       "        0.23198  , -0.53638  ,  0.038909 , -0.34829  ,  0.076598 ,\n",
       "        1.673    , -0.15137  ,  0.047546 , -0.54214  , -0.077142 ,\n",
       "        0.33608  , -0.46805  , -0.27351  , -0.18291  , -0.3938   ,\n",
       "        0.012281 , -0.35306  ,  0.01016  , -0.41372  , -0.0072879,\n",
       "       -0.17172  ,  0.17931  , -0.10434  , -0.40169  , -0.2849   ,\n",
       "       -0.29282  ,  0.39859  ,  0.095493 ,  0.0099619, -0.22196  ,\n",
       "       -0.7239   , -0.18609  , -0.33079  ,  0.154    , -0.42711  ,\n",
       "       -0.65934  , -0.37767  , -0.6419   ,  0.30267  ,  0.10078  ,\n",
       "       -0.018165 , -0.23503  , -0.5315   , -0.011697 ,  0.032843 ,\n",
       "       -0.44731  ,  0.080893 , -0.2122   ,  0.26788  , -0.99822  ,\n",
       "       -0.23135  , -0.36665  , -0.2854   , -0.63003  , -0.12093  ,\n",
       "       -0.31986  ,  0.55072  ,  0.23735  , -0.12833  ,  1.0004   ,\n",
       "       -0.03759  ,  0.054402 , -0.24086  , -0.13959  , -0.19617  ,\n",
       "        0.52513  , -0.32792  ,  0.44127  , -0.25815  , -0.32045  ,\n",
       "        0.35269  ,  0.47981  , -0.11676  , -0.099235 ,  0.04113  ,\n",
       "       -0.001675 , -0.2887   , -0.1314   , -0.36463  , -0.5793   ,\n",
       "       -0.34977  , -0.48147  , -0.23359  , -0.34093  ,  0.19555  ,\n",
       "       -0.5434   ,  0.3392   , -0.082866 ,  0.13833  , -0.48501  ,\n",
       "        0.43223  , -0.22105  ,  0.041134 ,  0.35273  , -0.81733  ,\n",
       "       -0.10987  ,  0.049104 , -0.38667  , -0.076759 , -0.50593  ,\n",
       "       -0.13403  , -0.20975  ,  0.47237  ,  0.22249  , -0.091329 ],\n",
       "      dtype=float32)"
      ]
     },
     "execution_count": 8,
     "metadata": {},
     "output_type": "execute_result"
    }
   ],
   "source": [
    "#vector representation \n",
    "glove_model[\"lion\"]"
   ]
  },
  {
   "cell_type": "code",
   "execution_count": 9,
   "metadata": {},
   "outputs": [
    {
     "data": {
      "text/plain": [
       "[('girl', 0.8272891044616699),\n",
       " ('boys', 0.681233286857605),\n",
       " ('kid', 0.655293345451355),\n",
       " ('man', 0.6208277940750122),\n",
       " ('teenage', 0.5973849296569824),\n",
       " ('child', 0.5952882766723633),\n",
       " ('teenager', 0.5896497368812561),\n",
       " ('father', 0.5800690054893494),\n",
       " ('girls', 0.574547290802002),\n",
       " ('son', 0.5726956129074097)]"
      ]
     },
     "execution_count": 9,
     "metadata": {},
     "output_type": "execute_result"
    }
   ],
   "source": [
    "#print similar words\n",
    "glove_model.most_similar(\"boy\")"
   ]
  },
  {
   "cell_type": "code",
   "execution_count": 10,
   "metadata": {},
   "outputs": [
    {
     "data": {
      "text/plain": [
       "[('king', 0.6770139932632446)]"
      ]
     },
     "execution_count": 10,
     "metadata": {},
     "output_type": "execute_result"
    }
   ],
   "source": [
    "#Analogy\n",
    "glove_model.most_similar(positive=['boy', 'queen'], negative=['girl'], topn=1)"
   ]
  },
  {
   "cell_type": "code",
   "execution_count": 11,
   "metadata": {},
   "outputs": [
    {
     "data": {
      "image/png": "[encoded data removed]",
      "text/plain": [
       "<Figure size 576x576 with 1 Axes>"
      ]
     },
     "metadata": {
      "needs_background": "light"
     },
     "output_type": "display_data"
    }
   ],
   "source": [
    "vocab = [\"boy\", \"girl\", \"man\", \"woman\", \"king\", \"queen\", \"banana\", \"apple\", \"mango\", \"fruit\", \"coconut\", \"orange\",\"rabbit\",\"elephant\",\"lion\",\"tiger\"]\n",
    "\n",
    "def tsne_plot(model):\n",
    "    labels = []\n",
    "    wordvecs = []\n",
    "\n",
    "    for word in vocab:\n",
    "        wordvecs.append(model[word])\n",
    "        labels.append(word)\n",
    "    \n",
    "    tsne_model = TSNE(perplexity=3, n_components=2, init='pca', random_state=42)\n",
    "    coordinates = tsne_model.fit_transform(wordvecs)\n",
    "\n",
    "    x = []\n",
    "    y = []\n",
    "    for value in coordinates:\n",
    "        x.append(value[0])\n",
    "        y.append(value[1])\n",
    "        \n",
    "    plt.figure(figsize=(8,8)) \n",
    "    for i in range(len(x)):\n",
    "        plt.scatter(x[i],y[i])\n",
    "        plt.annotate(labels[i],\n",
    "                     xy=(x[i], y[i]),\n",
    "                     xytext=(2, 2),\n",
    "                     textcoords='offset points',\n",
    "                     ha='right',\n",
    "                     va='bottom')\n",
    "    plt.show()\n",
    "\n",
    "tsne_plot(glove_model)"
   ]
  },
  {
   "cell_type": "code",
   "execution_count": null,
   "metadata": {},
   "outputs": [],
   "source": []
  }
 ],
 "metadata": {
  "kernelspec": {
   "display_name": "Python 3",
   "language": "python",
   "name": "python3"
  },
  "language_info": {
   "codemirror_mode": {
    "name": "ipython",
    "version": 3
   },
   "file_extension": ".py",
   "mimetype": "text/x-python",
   "name": "python",
   "nbconvert_exporter": "python",
   "pygments_lexer": "ipython3",
   "version": "3.8.5"
  }
 },
 "nbformat": 4,
 "nbformat_minor": 4
}
